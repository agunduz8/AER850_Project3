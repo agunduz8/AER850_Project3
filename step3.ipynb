{
  "cells": [
    {
      "cell_type": "markdown",
      "metadata": {
        "id": "view-in-github",
        "colab_type": "text"
      },
      "source": [
        "<a href=\"https://colab.research.google.com/github/agunduz8/AER850_Project3/blob/main/step3.ipynb\" target=\"_parent\"><img src=\"https://colab.research.google.com/assets/colab-badge.svg\" alt=\"Open In Colab\"/></a>"
      ]
    },
    {
      "cell_type": "code",
      "execution_count": 10,
      "metadata": {
        "colab": {
          "base_uri": "https://localhost:8080/"
        },
        "id": "zDHSKce_JCNh",
        "outputId": "bcefad8b-a9cd-49cb-d23d-6d3a6b979fb1"
      },
      "outputs": [
        {
          "output_type": "stream",
          "name": "stdout",
          "text": [
            "\n",
            "0: 928x928 1 Button, 13 Capacitors, 7 Connectors, 2 Electrolytic Capacitors, 7 ICs, 17 Resistors, 390.6ms\n",
            "1: 928x928 10 Capacitors, 12 Connectors, 2 Electrolytic Capacitors, 7 ICs, 4 Leds, 14 Resistors, 390.6ms\n",
            "2: 928x928 16 Capacitors, 10 Connectors, 1 Electrolytic Capacitor, 8 ICs, 1 Led, 2 Padss, 11 Resistors, 390.6ms\n",
            "Speed: 9.6ms preprocess, 390.6ms inference, 1.0ms postprocess per image at shape (1, 3, 928, 928)\n",
            "Results saved to \u001b[1mruns/detect/predict8\u001b[0m\n"
          ]
        }
      ],
      "source": [
        "# Part 3\n",
        "\n",
        "model = YOLO(\"/content/drive/MyDrive/project3/results/pcb_detector12/weights/best.pt\")\n",
        "\n",
        "ardumega = \"/content/drive/MyDrive/project3/data/evaluation/ardmega.jpg\"\n",
        "ardu = \"/content/drive/MyDrive/project3/data/evaluation/arduno.jpg\"\n",
        "raspi = \"/content/drive/MyDrive/project3/data/evaluation/rasppi.jpg\"\n",
        "\n",
        "evaluation_images = [ardumega, ardu, raspi]\n",
        "\n",
        "results = model.predict(\n",
        "    source=evaluation_images,\n",
        "    imgsz=928,\n",
        "    conf=0.25,\n",
        "    save=True,\n",
        ")"
      ]
    }
  ],
  "metadata": {
    "colab": {
      "provenance": [],
      "authorship_tag": "ABX9TyPLvOFXmBjv9gF8L3chNft0",
      "include_colab_link": true
    },
    "kernelspec": {
      "display_name": "Python 3",
      "name": "python3"
    },
    "language_info": {
      "name": "python"
    }
  },
  "nbformat": 4,
  "nbformat_minor": 0
}